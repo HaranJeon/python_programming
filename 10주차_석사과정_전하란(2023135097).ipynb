{
  "nbformat": 4,
  "nbformat_minor": 0,
  "metadata": {
    "colab": {
      "provenance": [],
      "authorship_tag": "ABX9TyOAsQTZ0hFgkcnHnDaakBUL",
      "include_colab_link": true
    },
    "kernelspec": {
      "name": "python3",
      "display_name": "Python 3"
    },
    "language_info": {
      "name": "python"
    }
  },
  "cells": [
    {
      "cell_type": "markdown",
      "metadata": {
        "id": "view-in-github",
        "colab_type": "text"
      },
      "source": [
        "<a href=\"https://colab.research.google.com/github/HaranJeon/python_programming/blob/main/10%EC%A3%BC%EC%B0%A8_%EC%84%9D%EC%82%AC%EA%B3%BC%EC%A0%95_%EC%A0%84%ED%95%98%EB%9E%80(2023135097).ipynb\" target=\"_parent\"><img src=\"https://colab.research.google.com/assets/colab-badge.svg\" alt=\"Open In Colab\"/></a>"
      ]
    },
    {
      "cell_type": "markdown",
      "source": [
        "10주차 석사과정 전하란(2023135097)\n"
      ],
      "metadata": {
        "id": "UwFzvIp4Ruqb"
      }
    },
    {
      "cell_type": "markdown",
      "source": [
        "계산 더하기 기능"
      ],
      "metadata": {
        "id": "NNCtY8-mSGkM"
      }
    },
    {
      "cell_type": "code",
      "execution_count": 1,
      "metadata": {
        "colab": {
          "base_uri": "https://localhost:8080/"
        },
        "id": "110xWTX4RokP",
        "outputId": "c9c9e5bb-dc92-4423-918a-01a1c7252be6"
      },
      "outputs": [
        {
          "output_type": "stream",
          "name": "stdout",
          "text": [
            "3\n",
            "7\n"
          ]
        }
      ],
      "source": [
        "result = 0\n",
        "\n",
        "def adder(num):\n",
        "    global result\n",
        "    result += num\n",
        "    return result\n",
        "\n",
        "print(adder(3))\n",
        "print(adder(4))"
      ]
    },
    {
      "cell_type": "code",
      "source": [
        "print(adder(4))"
      ],
      "metadata": {
        "colab": {
          "base_uri": "https://localhost:8080/"
        },
        "id": "eMgZ9djdSOYg",
        "outputId": "aaa84b12-9cc3-42fd-ecd5-cb6e1415c83d"
      },
      "execution_count": 2,
      "outputs": [
        {
          "output_type": "stream",
          "name": "stdout",
          "text": [
            "11\n"
          ]
        }
      ]
    },
    {
      "cell_type": "code",
      "source": [
        "result = 0\n",
        "\n",
        "def adder(num):\n",
        "    global result\n",
        "    result += num\n",
        "    return result\n",
        "\n",
        "print(adder(3))\n",
        "print(adder(4))\n",
        "print(adder(5))"
      ],
      "metadata": {
        "colab": {
          "base_uri": "https://localhost:8080/"
        },
        "id": "kErTDMQ9STo7",
        "outputId": "46fb1bad-a70d-45fd-97d3-c04e88d69039"
      },
      "execution_count": 10,
      "outputs": [
        {
          "output_type": "stream",
          "name": "stdout",
          "text": [
            "3\n",
            "7\n",
            "12\n"
          ]
        }
      ]
    },
    {
      "cell_type": "markdown",
      "source": [
        "만약 계산기가 두 개 필요하다면?"
      ],
      "metadata": {
        "id": "D_d0Fd2HSsQ-"
      }
    },
    {
      "cell_type": "code",
      "source": [
        "result1 = 0\n",
        "result2 = 0\n",
        "\n",
        "def adder1(num):\n",
        "    global result1\n",
        "    result1 += num\n",
        "    return result1\n",
        "\n",
        "def adder2(num):\n",
        "    global result2\n",
        "    result2+= num\n",
        "    return result2\n",
        "\n",
        "print(adder1(3))\n",
        "print(adder1(4))\n",
        "print(adder2(3))\n",
        "print(adder2(7))\n"
      ],
      "metadata": {
        "colab": {
          "base_uri": "https://localhost:8080/"
        },
        "id": "6-Yvq6YTSWMz",
        "outputId": "ee249a66-3759-41f1-dff9-255bbfb28de8"
      },
      "execution_count": 11,
      "outputs": [
        {
          "output_type": "stream",
          "name": "stdout",
          "text": [
            "3\n",
            "7\n",
            "3\n",
            "10\n"
          ]
        }
      ]
    },
    {
      "cell_type": "markdown",
      "source": [
        "계산기가 여러 개가 필요하다면?"
      ],
      "metadata": {
        "id": "uDoVJO4_SzbH"
      }
    },
    {
      "cell_type": "code",
      "source": [
        "class Calulator:\n",
        "    def __init__(self):\n",
        "        self.result = 0\n",
        "\n",
        "    def adder(self, num):\n",
        "        self.result += num\n",
        "        return self.result\n",
        "\n",
        "cal1 = Calulator()\n",
        "cal2 = Calulator()\n",
        "\n",
        "print(cal1.adder(3))\n",
        "print(cal1.adder(4))\n",
        "print(cal2.adder(3))\n",
        "print(cal2.adder(7))"
      ],
      "metadata": {
        "colab": {
          "base_uri": "https://localhost:8080/"
        },
        "id": "V-DF0P2ASx8x",
        "outputId": "a57bc1b9-64fe-49f5-ee13-31eb3d90dbbf"
      },
      "execution_count": 12,
      "outputs": [
        {
          "output_type": "stream",
          "name": "stdout",
          "text": [
            "3\n",
            "7\n",
            "3\n",
            "10\n"
          ]
        }
      ]
    },
    {
      "cell_type": "markdown",
      "source": [
        "클래스 변수"
      ],
      "metadata": {
        "id": "SGhIGyffS6yE"
      }
    },
    {
      "cell_type": "code",
      "source": [
        "class Service:\n",
        "    secret = '지구는 4006년에 멸망한다.'\n",
        "\n",
        "an = Service()\n",
        "\n",
        "an.secret"
      ],
      "metadata": {
        "colab": {
          "base_uri": "https://localhost:8080/",
          "height": 35
        },
        "id": "__P11Re2S3bm",
        "outputId": "333b33b9-847a-4486-cfbb-61d007a49cb5"
      },
      "execution_count": 13,
      "outputs": [
        {
          "output_type": "execute_result",
          "data": {
            "text/plain": [
              "'지구는 4006년에 멸망한다.'"
            ],
            "application/vnd.google.colaboratory.intrinsic+json": {
              "type": "string"
            }
          },
          "metadata": {},
          "execution_count": 13
        }
      ]
    },
    {
      "cell_type": "markdown",
      "source": [
        "클래스 변수 공유"
      ],
      "metadata": {
        "id": "AVfwOh16TBBE"
      }
    },
    {
      "cell_type": "code",
      "source": [
        "Service.secret"
      ],
      "metadata": {
        "colab": {
          "base_uri": "https://localhost:8080/",
          "height": 35
        },
        "id": "F2HH8qVbS--j",
        "outputId": "2b833329-8d46-4b44-cfa9-0a6a49c28d55"
      },
      "execution_count": 15,
      "outputs": [
        {
          "output_type": "execute_result",
          "data": {
            "text/plain": [
              "'지구가 4006년에 멸망한다는 사실은 뻥이다.'"
            ],
            "application/vnd.google.colaboratory.intrinsic+json": {
              "type": "string"
            }
          },
          "metadata": {},
          "execution_count": 15
        }
      ]
    },
    {
      "cell_type": "code",
      "source": [
        "Service.secret = '지구가 4006년에 멸망한다는 사실은 뻥이다.'\n",
        "print(an.secret)"
      ],
      "metadata": {
        "colab": {
          "base_uri": "https://localhost:8080/"
        },
        "id": "1J-s2LsATI9V",
        "outputId": "7007e8fb-cd6c-42cc-ca36-df66ead664fe"
      },
      "execution_count": 16,
      "outputs": [
        {
          "output_type": "stream",
          "name": "stdout",
          "text": [
            "지구가 4006년에 멸망한다는 사실은 뻥이다.\n"
          ]
        }
      ]
    },
    {
      "cell_type": "markdown",
      "source": [
        "클래스 내부의 함수(매서드: method)"
      ],
      "metadata": {
        "id": "0uS2IY79TNDi"
      }
    },
    {
      "cell_type": "code",
      "source": [
        "class Service:\n",
        "    secret = '지구는 4006년에 멸망한다.'\n",
        "    def sum(self, a, b):\n",
        "        result = a+b\n",
        "        print(\"%s + %s = %s이다.\"%(a,b,result))\n",
        "\n",
        "an = Service()\n",
        "\n",
        "an.sum(1,1)"
      ],
      "metadata": {
        "colab": {
          "base_uri": "https://localhost:8080/"
        },
        "id": "EiGKggI3TLpe",
        "outputId": "15b53b51-2a70-45ca-87d8-a0b34e1170bb"
      },
      "execution_count": 17,
      "outputs": [
        {
          "output_type": "stream",
          "name": "stdout",
          "text": [
            "1 + 1 = 2이다.\n"
          ]
        }
      ]
    },
    {
      "cell_type": "markdown",
      "source": [
        "객체 변수\n",
        "service 클래스 업그레이드"
      ],
      "metadata": {
        "id": "x06NJnt5TWkW"
      }
    },
    {
      "cell_type": "code",
      "source": [
        "class Service:\n",
        "    secret = '지구는 4006년에 멸망한다.'\n",
        "    def setname(self, name):\n",
        "        self.name = name\n",
        "    def sum(self, a, b):\n",
        "        result = a+b\n",
        "        print(\"%s님, %s + %s = %s이다.\"%(self.name, a,b,result))\n",
        "\n",
        "an = Service()\n",
        "an.setname(\"박달도사\")\n",
        "an.sum(1,1)\n"
      ],
      "metadata": {
        "colab": {
          "base_uri": "https://localhost:8080/"
        },
        "id": "SMArxH6ZTS4Q",
        "outputId": "0885abc2-d62f-43cb-c2cd-4ad85e5ca40f"
      },
      "execution_count": 18,
      "outputs": [
        {
          "output_type": "stream",
          "name": "stdout",
          "text": [
            "박달도사님, 1 + 1 = 2이다.\n"
          ]
        }
      ]
    },
    {
      "cell_type": "markdown",
      "source": [
        "클래스 변수와 객체 변수"
      ],
      "metadata": {
        "id": "yXhv9ySqTfcl"
      }
    },
    {
      "cell_type": "code",
      "source": [
        "kim = Service()\n",
        "park = Service()\n",
        "\n",
        "kim.name = \"김정보\"\n",
        "park.name = \"박융합\"\n",
        "\n",
        "print(kim.name)\n",
        "\n",
        "print(park.name)"
      ],
      "metadata": {
        "colab": {
          "base_uri": "https://localhost:8080/"
        },
        "id": "0YslXT09Tbv9",
        "outputId": "6fbe2099-b960-4ae9-abb4-cbd6b20130b4"
      },
      "execution_count": 19,
      "outputs": [
        {
          "output_type": "stream",
          "name": "stdout",
          "text": [
            "김정보\n",
            "박융합\n"
          ]
        }
      ]
    },
    {
      "cell_type": "code",
      "source": [
        "kim.secret = \"비밀은 없다\"\n",
        "print(park.secret)"
      ],
      "metadata": {
        "colab": {
          "base_uri": "https://localhost:8080/"
        },
        "id": "1uen7yzsTjd3",
        "outputId": "d4754aec-bab4-4aee-b907-965dbf3fb9ca"
      },
      "execution_count": 20,
      "outputs": [
        {
          "output_type": "stream",
          "name": "stdout",
          "text": [
            "지구는 4006년에 멸망한다.\n"
          ]
        }
      ]
    },
    {
      "cell_type": "code",
      "source": [
        "print(kim.secret)"
      ],
      "metadata": {
        "colab": {
          "base_uri": "https://localhost:8080/"
        },
        "id": "X4fBoXNsTlon",
        "outputId": "c406921b-220e-46b2-c3e2-464f976c06b5"
      },
      "execution_count": 21,
      "outputs": [
        {
          "output_type": "stream",
          "name": "stdout",
          "text": [
            "비밀은 없다\n"
          ]
        }
      ]
    },
    {
      "cell_type": "code",
      "source": [
        "Service.secret"
      ],
      "metadata": {
        "colab": {
          "base_uri": "https://localhost:8080/",
          "height": 35
        },
        "id": "l3ivVF-NToBE",
        "outputId": "d64add28-f4b7-44b0-94e9-5cb9724105aa"
      },
      "execution_count": 22,
      "outputs": [
        {
          "output_type": "execute_result",
          "data": {
            "text/plain": [
              "'지구는 4006년에 멸망한다.'"
            ],
            "application/vnd.google.colaboratory.intrinsic+json": {
              "type": "string"
            }
          },
          "metadata": {},
          "execution_count": 22
        }
      ]
    },
    {
      "cell_type": "markdown",
      "source": [
        "setname 을 호출하지 않은 경우"
      ],
      "metadata": {
        "id": "O3aXojzwTsme"
      }
    },
    {
      "cell_type": "code",
      "source": [
        "lee = Service()\n",
        "lee.sum(1,1)"
      ],
      "metadata": {
        "colab": {
          "base_uri": "https://localhost:8080/",
          "height": 310
        },
        "id": "anhNyN-eTpe_",
        "outputId": "d9eca422-2965-4636-ae85-d7b95cafb07c"
      },
      "execution_count": 23,
      "outputs": [
        {
          "output_type": "error",
          "ename": "AttributeError",
          "evalue": "ignored",
          "traceback": [
            "\u001b[0;31m---------------------------------------------------------------------------\u001b[0m",
            "\u001b[0;31mAttributeError\u001b[0m                            Traceback (most recent call last)",
            "\u001b[0;32m<ipython-input-23-af3d11e1d066>\u001b[0m in \u001b[0;36m<cell line: 2>\u001b[0;34m()\u001b[0m\n\u001b[1;32m      1\u001b[0m \u001b[0mlee\u001b[0m \u001b[0;34m=\u001b[0m \u001b[0mService\u001b[0m\u001b[0;34m(\u001b[0m\u001b[0;34m)\u001b[0m\u001b[0;34m\u001b[0m\u001b[0;34m\u001b[0m\u001b[0m\n\u001b[0;32m----> 2\u001b[0;31m \u001b[0mlee\u001b[0m\u001b[0;34m.\u001b[0m\u001b[0msum\u001b[0m\u001b[0;34m(\u001b[0m\u001b[0;36m1\u001b[0m\u001b[0;34m,\u001b[0m\u001b[0;36m1\u001b[0m\u001b[0;34m)\u001b[0m\u001b[0;34m\u001b[0m\u001b[0;34m\u001b[0m\u001b[0m\n\u001b[0m",
            "\u001b[0;32m<ipython-input-18-c93910824900>\u001b[0m in \u001b[0;36msum\u001b[0;34m(self, a, b)\u001b[0m\n\u001b[1;32m      5\u001b[0m     \u001b[0;32mdef\u001b[0m \u001b[0msum\u001b[0m\u001b[0;34m(\u001b[0m\u001b[0mself\u001b[0m\u001b[0;34m,\u001b[0m \u001b[0ma\u001b[0m\u001b[0;34m,\u001b[0m \u001b[0mb\u001b[0m\u001b[0;34m)\u001b[0m\u001b[0;34m:\u001b[0m\u001b[0;34m\u001b[0m\u001b[0;34m\u001b[0m\u001b[0m\n\u001b[1;32m      6\u001b[0m         \u001b[0mresult\u001b[0m \u001b[0;34m=\u001b[0m \u001b[0ma\u001b[0m\u001b[0;34m+\u001b[0m\u001b[0mb\u001b[0m\u001b[0;34m\u001b[0m\u001b[0;34m\u001b[0m\u001b[0m\n\u001b[0;32m----> 7\u001b[0;31m         \u001b[0mprint\u001b[0m\u001b[0;34m(\u001b[0m\u001b[0;34m\"%s님, %s + %s = %s이다.\"\u001b[0m\u001b[0;34m%\u001b[0m\u001b[0;34m(\u001b[0m\u001b[0mself\u001b[0m\u001b[0;34m.\u001b[0m\u001b[0mname\u001b[0m\u001b[0;34m,\u001b[0m \u001b[0ma\u001b[0m\u001b[0;34m,\u001b[0m\u001b[0mb\u001b[0m\u001b[0;34m,\u001b[0m\u001b[0mresult\u001b[0m\u001b[0;34m)\u001b[0m\u001b[0;34m)\u001b[0m\u001b[0;34m\u001b[0m\u001b[0;34m\u001b[0m\u001b[0m\n\u001b[0m\u001b[1;32m      8\u001b[0m \u001b[0;34m\u001b[0m\u001b[0m\n\u001b[1;32m      9\u001b[0m \u001b[0man\u001b[0m \u001b[0;34m=\u001b[0m \u001b[0mService\u001b[0m\u001b[0;34m(\u001b[0m\u001b[0;34m)\u001b[0m\u001b[0;34m\u001b[0m\u001b[0;34m\u001b[0m\u001b[0m\n",
            "\u001b[0;31mAttributeError\u001b[0m: 'Service' object has no attribute 'name'"
          ]
        }
      ]
    },
    {
      "cell_type": "code",
      "source": [
        "class Service:\n",
        "    secret = '지구는 4006년에 멸망한다.'\n",
        "    def __init__(self, name):\n",
        "        self.name = name\n",
        "    def sum(self, a, b):\n",
        "        result = a+b\n",
        "        print(\"%s님, %s + %s = %s이다.\"%(self.name, a,b,result))\n",
        "\n",
        "an = Service(\"박달도사\")\n",
        "an.sum(1,1)"
      ],
      "metadata": {
        "colab": {
          "base_uri": "https://localhost:8080/"
        },
        "id": "8AiXHwRETxtl",
        "outputId": "c98b8e9d-8cfb-4e55-d8b4-a27b33a7fe8a"
      },
      "execution_count": 24,
      "outputs": [
        {
          "output_type": "stream",
          "name": "stdout",
          "text": [
            "박달도사님, 1 + 1 = 2이다.\n"
          ]
        }
      ]
    },
    {
      "cell_type": "markdown",
      "source": [
        "사칙연산 클래스"
      ],
      "metadata": {
        "id": "rZtzS-LSUBfx"
      }
    },
    {
      "cell_type": "code",
      "source": [
        "class FourCal:\n",
        "    pass\n",
        "\n",
        "a = FourCal()\n",
        "type(a)"
      ],
      "metadata": {
        "colab": {
          "base_uri": "https://localhost:8080/"
        },
        "id": "lJjrDyPlT1pD",
        "outputId": "c5f90178-ab7f-4e73-d14a-aa7369959fe3"
      },
      "execution_count": 25,
      "outputs": [
        {
          "output_type": "execute_result",
          "data": {
            "text/plain": [
              "__main__.FourCal"
            ]
          },
          "metadata": {},
          "execution_count": 25
        }
      ]
    },
    {
      "cell_type": "markdown",
      "source": [
        "사칙연산 클래스 - 데이터 세팅"
      ],
      "metadata": {
        "id": "pQZigkJvUGQx"
      }
    },
    {
      "cell_type": "code",
      "source": [
        "class FourCal:\n",
        "    def setadta(self, first, second):\n",
        "        self.first = first\n",
        "        self.second = second\n",
        "\n",
        "a = FourCal()\n",
        "a.setadta(4,2)\n",
        "\n",
        "print(a.first)"
      ],
      "metadata": {
        "colab": {
          "base_uri": "https://localhost:8080/"
        },
        "id": "36XesUeeUD9R",
        "outputId": "bdc74699-4237-4ae0-80f3-a86c651da926"
      },
      "execution_count": 32,
      "outputs": [
        {
          "output_type": "stream",
          "name": "stdout",
          "text": [
            "4\n"
          ]
        }
      ]
    },
    {
      "cell_type": "code",
      "source": [
        "class FourCal:\n",
        "    def setadta(self, first, second):\n",
        "        self.first = first\n",
        "        self.second = second\n",
        "\n",
        "a = FourCal()\n",
        "a.setadta(4,2)\n",
        "\n",
        "print(a.second)"
      ],
      "metadata": {
        "colab": {
          "base_uri": "https://localhost:8080/"
        },
        "id": "F4Z9ff_CUZ1R",
        "outputId": "aeeadb58-6fc7-46e9-8ce1-1331f79ff1a8"
      },
      "execution_count": 33,
      "outputs": [
        {
          "output_type": "stream",
          "name": "stdout",
          "text": [
            "2\n"
          ]
        }
      ]
    },
    {
      "cell_type": "markdown",
      "source": [
        "사칙연산 클래스 - 더하기"
      ],
      "metadata": {
        "id": "wDP5hYsFUL9J"
      }
    },
    {
      "cell_type": "code",
      "source": [
        "class FourCal:\n",
        "    def setadta(self, first, second):\n",
        "        self.first = first\n",
        "        self.second = second\n",
        "    def sum(self):\n",
        "        result = self.first + self.second\n",
        "        return result\n",
        "\n",
        "a = FourCal()\n",
        "a.setadta(4,2)\n",
        "\n",
        "print(a.sum())"
      ],
      "metadata": {
        "colab": {
          "base_uri": "https://localhost:8080/"
        },
        "id": "OlVqKCJYUKYR",
        "outputId": "6daeba2f-1623-463f-eb34-7bb304427539"
      },
      "execution_count": 34,
      "outputs": [
        {
          "output_type": "stream",
          "name": "stdout",
          "text": [
            "6\n"
          ]
        }
      ]
    },
    {
      "cell_type": "markdown",
      "source": [
        "사칙연산 클래스"
      ],
      "metadata": {
        "id": "9b_y9bvVUo8u"
      }
    },
    {
      "cell_type": "code",
      "source": [
        "class FourCal:\n",
        "    def setadta(self, first, second):\n",
        "        self.first = first\n",
        "        self.second = second\n",
        "    def sum(self):\n",
        "        result = self.first + self.second\n",
        "        return result\n",
        "    def mul(self):\n",
        "        result = self.first * self.second\n",
        "        return result\n",
        "    def sub(self):\n",
        "        result = self.first - self.second\n",
        "        return result\n",
        "    def div(self):\n",
        "        result = self.first / self.second\n",
        "        return result\n",
        "\n",
        "a = FourCal()\n",
        "b = FourCal()\n",
        "\n",
        "a.setadta(4,2)\n",
        "b.setadta(3,7)\n",
        "\n",
        "print(a.sum())\n",
        "print(a.mul())\n",
        "print(a.sub())\n",
        "print(a.div())\n",
        "print(b.sub())\n"
      ],
      "metadata": {
        "colab": {
          "base_uri": "https://localhost:8080/"
        },
        "id": "jXrq-EJ3UmFr",
        "outputId": "9c2a1c25-1bb6-4fd7-c91b-367dac970770"
      },
      "execution_count": 37,
      "outputs": [
        {
          "output_type": "stream",
          "name": "stdout",
          "text": [
            "6\n",
            "8\n",
            "2\n",
            "2.0\n",
            "-4\n"
          ]
        }
      ]
    },
    {
      "cell_type": "markdown",
      "source": [
        "간단한 주사위 게임 - 순차적 프로그래밍"
      ],
      "metadata": {
        "id": "PGccmOmCU5bX"
      }
    },
    {
      "cell_type": "code",
      "source": [
        "import random\n",
        "\n",
        "player1_dice = []\n",
        "player2_dice = []\n",
        "\n",
        "for i in range(3):\n",
        "    player1_dice.append(random.randint(1,6))\n",
        "    player2_dice.append(random.randint(1,6))\n",
        "\n",
        "\n",
        "print(\"Player 1 rollde\" + str(player1_dice))\n",
        "print(\"Player 2 rollde\" + str(player2_dice))\n",
        "\n",
        "if sum(player1_dice) == sum(player2_dice):\n",
        "    print(\"Draw\")\n",
        "elif sum(player1_dice) > sum(player2_dice):\n",
        "    print(\"Player 1 wins\")\n",
        "else:\n",
        "    print(\"Player 2 wins\")"
      ],
      "metadata": {
        "colab": {
          "base_uri": "https://localhost:8080/"
        },
        "id": "-KhFh2VXUr3q",
        "outputId": "1eff1e67-c46c-42b2-a57d-18c682d3b8be"
      },
      "execution_count": 38,
      "outputs": [
        {
          "output_type": "stream",
          "name": "stdout",
          "text": [
            "Player 1 rollde[5, 3, 6]\n",
            "Player 2 rollde[2, 2, 4]\n",
            "Player 1 wins\n"
          ]
        }
      ]
    },
    {
      "cell_type": "code",
      "source": [],
      "metadata": {
        "id": "Dxx9EzhvU-Dr"
      },
      "execution_count": null,
      "outputs": []
    }
  ]
}