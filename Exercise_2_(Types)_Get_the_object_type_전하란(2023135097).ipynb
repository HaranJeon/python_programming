{
  "nbformat": 4,
  "nbformat_minor": 0,
  "metadata": {
    "colab": {
      "provenance": []
    },
    "kernelspec": {
      "name": "python3",
      "display_name": "Python 3"
    },
    "language_info": {
      "name": "python"
    }
  },
  "cells": [
    {
      "cell_type": "markdown",
      "source": [
        "## Exercise 2 (Types) : Get the object type"
      ],
      "metadata": {
        "id": "rbhkAir-or8M"
      }
    },
    {
      "cell_type": "code",
      "source": [
        "# 파이썬 프로그래밍\n",
        "# 23학번 석사과정 전하란(2023135097)"
      ],
      "metadata": {
        "id": "Gcve0yNJouck"
      },
      "execution_count": null,
      "outputs": []
    },
    {
      "cell_type": "markdown",
      "source": [
        "In the code cell below, use the type() function to check the object type of 12.0."
      ],
      "metadata": {
        "id": "Wvnhds4bpyeu"
      }
    },
    {
      "cell_type": "code",
      "source": [
        "type (12.0)"
      ],
      "metadata": {
        "colab": {
          "base_uri": "https://localhost:8080/"
        },
        "id": "mz2PTD9MpzEu",
        "outputId": "5546e07c-4acc-4ad3-ed9f-4e62a2bd8447"
      },
      "execution_count": null,
      "outputs": [
        {
          "output_type": "execute_result",
          "data": {
            "text/plain": [
              "float"
            ]
          },
          "metadata": {},
          "execution_count": 2
        }
      ]
    }
  ]
}