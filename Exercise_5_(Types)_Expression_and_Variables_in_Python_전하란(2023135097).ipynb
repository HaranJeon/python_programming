{
  "nbformat": 4,
  "nbformat_minor": 0,
  "metadata": {
    "colab": {
      "provenance": []
    },
    "kernelspec": {
      "name": "python3",
      "display_name": "Python 3"
    },
    "language_info": {
      "name": "python"
    }
  },
  "cells": [
    {
      "cell_type": "markdown",
      "source": [
        "## Exercise 5 (Types): Expression and Variables in Python"
      ],
      "metadata": {
        "id": "nlbPTg92xxse"
      }
    },
    {
      "cell_type": "code",
      "source": [
        "# 파이썬 프로그래밍\n",
        "# 23학번 석사과정 전하란(2023135097)"
      ],
      "metadata": {
        "id": "9A1Y0J9n9K9_"
      },
      "execution_count": null,
      "outputs": []
    },
    {
      "cell_type": "markdown",
      "source": [
        "What is the value of x where x = 3 + 2 * 2"
      ],
      "metadata": {
        "id": "CciHLjEkx3r3"
      }
    },
    {
      "cell_type": "code",
      "execution_count": null,
      "metadata": {
        "colab": {
          "base_uri": "https://localhost:8080/"
        },
        "id": "a1VgbjcLweAZ",
        "outputId": "3cb5ccdc-2731-413a-ab0b-53c0e548c02f"
      },
      "outputs": [
        {
          "output_type": "execute_result",
          "data": {
            "text/plain": [
              "7"
            ]
          },
          "metadata": {},
          "execution_count": 6
        }
      ],
      "source": [
        "x = 3 + 2 * 2\n",
        "x"
      ]
    },
    {
      "cell_type": "markdown",
      "source": [
        "What is the value of y where y = (3 + 2) * 2?"
      ],
      "metadata": {
        "id": "-ToM2-gRx63L"
      }
    },
    {
      "cell_type": "code",
      "source": [
        "y = (3 + 2) * 2\n",
        "y"
      ],
      "metadata": {
        "colab": {
          "base_uri": "https://localhost:8080/"
        },
        "id": "QlVZxuEtx7Vo",
        "outputId": "09d60fda-fec9-4ccb-f733-15c259296e87"
      },
      "execution_count": null,
      "outputs": [
        {
          "output_type": "execute_result",
          "data": {
            "text/plain": [
              "10"
            ]
          },
          "metadata": {},
          "execution_count": 7
        }
      ]
    },
    {
      "cell_type": "markdown",
      "source": [
        "What is the value of z where z = x + y?"
      ],
      "metadata": {
        "id": "j4aCCcdmx9dY"
      }
    },
    {
      "cell_type": "code",
      "source": [
        "z = x + y\n",
        "z"
      ],
      "metadata": {
        "colab": {
          "base_uri": "https://localhost:8080/"
        },
        "id": "Tc6VksHNx9rn",
        "outputId": "53db5592-0280-4070-a749-6d05437e4fc6"
      },
      "execution_count": null,
      "outputs": [
        {
          "output_type": "execute_result",
          "data": {
            "text/plain": [
              "17"
            ]
          },
          "metadata": {},
          "execution_count": 4
        }
      ]
    }
  ]
}