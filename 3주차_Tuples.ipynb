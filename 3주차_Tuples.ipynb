{
  "cells": [
    {
      "cell_type": "markdown",
      "metadata": {
        "id": "WfaOSGtXTSkd"
      },
      "source": [
        "<h2 id=\"quiz\">Quiz on Tuples</h2>"
      ]
    },
    {
      "cell_type": "markdown",
      "metadata": {
        "id": "PCG7vENSTSkd"
      },
      "source": [
        "Consider the following tuple:"
      ]
    },
    {
      "cell_type": "code",
      "execution_count": 1,
      "metadata": {
        "colab": {
          "base_uri": "https://localhost:8080/"
        },
        "id": "60-6rzdhTSke",
        "outputId": "f4b7fb3f-8125-472d-eb61-0650e55d792c"
      },
      "outputs": [
        {
          "output_type": "execute_result",
          "data": {
            "text/plain": [
              "('pop',\n",
              " 'rock',\n",
              " 'soul',\n",
              " 'hard rock',\n",
              " 'soft rock',\n",
              " 'R&B',\n",
              " 'progressive rock',\n",
              " 'disco')"
            ]
          },
          "metadata": {},
          "execution_count": 1
        }
      ],
      "source": [
        "# sample tuple\n",
        "\n",
        "genres_tuple = (\"pop\", \"rock\", \"soul\", \"hard rock\", \"soft rock\", \\\n",
        "                \"R&B\", \"progressive rock\", \"disco\")\n",
        "genres_tuple"
      ]
    },
    {
      "cell_type": "markdown",
      "metadata": {
        "id": "g5pE31RtTSke"
      },
      "source": [
        "Find the length of the tuple, <code>genres_tuple</code>:"
      ]
    },
    {
      "cell_type": "code",
      "execution_count": 2,
      "metadata": {
        "id": "CjPoP2NlTSke",
        "outputId": "bc8b6c63-a9db-4a8e-b1c5-50fb7befd3cd",
        "colab": {
          "base_uri": "https://localhost:8080/"
        }
      },
      "outputs": [
        {
          "output_type": "execute_result",
          "data": {
            "text/plain": [
              "8"
            ]
          },
          "metadata": {},
          "execution_count": 2
        }
      ],
      "source": [
        "# Write your code below and press Shift+Enter to execute\n",
        "len(genres_tuple)"
      ]
    },
    {
      "cell_type": "markdown",
      "metadata": {
        "id": "3ZtRR3P8TSke"
      },
      "source": [
        "<img src=\"https://s3-api.us-geo.objectstorage.softlayer.net/cf-courses-data/CognitiveClass/PY0101EN/Chapter%202/Images/TuplesQuiz.png\" width=\"1100\" align=\"center\">"
      ]
    },
    {
      "cell_type": "markdown",
      "metadata": {
        "id": "UFj7NLDrTSke"
      },
      "source": [
        "Double-click __here__ for the solution.\n",
        "\n",
        "<!-- Your answer is below:\n",
        "len(genres_tuple)\n",
        "-->"
      ]
    },
    {
      "cell_type": "markdown",
      "metadata": {
        "id": "nxGKq_zXTSke"
      },
      "source": [
        "Access the element, with respect to index 3:"
      ]
    },
    {
      "cell_type": "code",
      "execution_count": 3,
      "metadata": {
        "id": "dDQOgOryTSke",
        "outputId": "372ffba2-4014-488e-fed9-eb8488d7ce26",
        "colab": {
          "base_uri": "https://localhost:8080/",
          "height": 35
        }
      },
      "outputs": [
        {
          "output_type": "execute_result",
          "data": {
            "text/plain": [
              "'hard rock'"
            ],
            "application/vnd.google.colaboratory.intrinsic+json": {
              "type": "string"
            }
          },
          "metadata": {},
          "execution_count": 3
        }
      ],
      "source": [
        "# Write your code below and press Shift+Enter to execute\n",
        "genres_tuple[3]"
      ]
    },
    {
      "cell_type": "markdown",
      "metadata": {
        "id": "ezm3Ve-OTSke"
      },
      "source": [
        "Double-click __here__ for the solution.\n",
        "\n",
        "<!-- Your answer is below:\n",
        "genres_tuple[3]\n",
        "-->"
      ]
    },
    {
      "cell_type": "markdown",
      "metadata": {
        "id": "MgCTKy1DTSke"
      },
      "source": [
        "Use slicing to obtain indexes 3, 4 and 5:"
      ]
    },
    {
      "cell_type": "code",
      "execution_count": 4,
      "metadata": {
        "id": "M52TZCM5TSkf",
        "outputId": "2f99e9e6-cd92-40f9-b7fa-93c4a2392409",
        "colab": {
          "base_uri": "https://localhost:8080/"
        }
      },
      "outputs": [
        {
          "output_type": "execute_result",
          "data": {
            "text/plain": [
              "('hard rock', 'soft rock', 'R&B')"
            ]
          },
          "metadata": {},
          "execution_count": 4
        }
      ],
      "source": [
        "# Write your code below and press Shift+Enter to execute\n",
        "genres_tuple[3:6]"
      ]
    },
    {
      "cell_type": "markdown",
      "metadata": {
        "id": "5n2419vhTSkf"
      },
      "source": [
        "Double-click __here__ for the solution.\n",
        "\n",
        "<!-- Your answer is below:\n",
        "genres_tuple[3:6]\n",
        "-->"
      ]
    },
    {
      "cell_type": "markdown",
      "metadata": {
        "id": "2FRQJentTSkf"
      },
      "source": [
        "Find the first two elements of the tuple <code>genres_tuple</code>:"
      ]
    },
    {
      "cell_type": "code",
      "execution_count": 5,
      "metadata": {
        "id": "siRm-jjETSkf",
        "outputId": "9c82d7fd-c5c3-45e1-df50-4aabc7784374",
        "colab": {
          "base_uri": "https://localhost:8080/"
        }
      },
      "outputs": [
        {
          "output_type": "execute_result",
          "data": {
            "text/plain": [
              "('pop', 'rock')"
            ]
          },
          "metadata": {},
          "execution_count": 5
        }
      ],
      "source": [
        "# Write your code below and press Shift+Enter to execute\n",
        "genres_tuple[0:2]"
      ]
    },
    {
      "cell_type": "markdown",
      "metadata": {
        "id": "bmfux6KjTSkf"
      },
      "source": [
        "Double-click __here__ for the solution.\n",
        "\n",
        "<!-- Your answer is below:\n",
        "genres_tuple[0:2]\n",
        "-->"
      ]
    },
    {
      "cell_type": "markdown",
      "metadata": {
        "id": "lfjDzdWVTSkf"
      },
      "source": [
        "Find the first index of <code>\"disco\"</code>:"
      ]
    },
    {
      "cell_type": "code",
      "execution_count": 6,
      "metadata": {
        "id": "ViKYpk8rTSkf",
        "outputId": "d2efc8e1-d743-4aec-ba65-a8145c75c6a9",
        "colab": {
          "base_uri": "https://localhost:8080/"
        }
      },
      "outputs": [
        {
          "output_type": "execute_result",
          "data": {
            "text/plain": [
              "7"
            ]
          },
          "metadata": {},
          "execution_count": 6
        }
      ],
      "source": [
        "# Write your code below and press Shift+Enter to execute\n",
        "genres_tuple.index(\"disco\")"
      ]
    },
    {
      "cell_type": "markdown",
      "metadata": {
        "id": "K4m7BxDMTSkf"
      },
      "source": [
        "Double-click __here__ for the solution.\n",
        "\n",
        "<!-- Your answer is below:\n",
        "genres_tuple.index(\"disco\")\n",
        "-->"
      ]
    },
    {
      "cell_type": "markdown",
      "metadata": {
        "id": "oi9ePenbTSkf"
      },
      "source": [
        "Generate a sorted List from the Tuple <code>C_tuple=(-5, 1, -3)</code>:"
      ]
    },
    {
      "cell_type": "code",
      "execution_count": 7,
      "metadata": {
        "id": "bAs8GFw2TSkf",
        "outputId": "69a76744-61bf-40f4-ada9-4d6fc075d527",
        "colab": {
          "base_uri": "https://localhost:8080/"
        }
      },
      "outputs": [
        {
          "output_type": "execute_result",
          "data": {
            "text/plain": [
              "[-5, -3, 1]"
            ]
          },
          "metadata": {},
          "execution_count": 7
        }
      ],
      "source": [
        "# Write your code below and press Shift+Enter to execute\n",
        "C_tuple = (-5, 1, -3)\n",
        "sortedC_tuple = sorted(C_tuple)\n",
        "sortedC_tuple"
      ]
    }
  ],
  "metadata": {
    "colab": {
      "provenance": []
    },
    "kernelspec": {
      "display_name": "Python 3 (ipykernel)",
      "language": "python",
      "name": "python3"
    },
    "language_info": {
      "codemirror_mode": {
        "name": "ipython",
        "version": 3
      },
      "file_extension": ".py",
      "mimetype": "text/x-python",
      "name": "python",
      "nbconvert_exporter": "python",
      "pygments_lexer": "ipython3",
      "version": "3.9.13"
    }
  },
  "nbformat": 4,
  "nbformat_minor": 0
}