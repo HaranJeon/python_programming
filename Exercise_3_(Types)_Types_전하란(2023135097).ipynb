{
  "nbformat": 4,
  "nbformat_minor": 0,
  "metadata": {
    "colab": {
      "provenance": []
    },
    "kernelspec": {
      "name": "python3",
      "display_name": "Python 3"
    },
    "language_info": {
      "name": "python"
    }
  },
  "cells": [
    {
      "cell_type": "markdown",
      "source": [
        "## Exercise 3 (Types): Types"
      ],
      "metadata": {
        "id": "CCz0-khrtikG"
      }
    },
    {
      "cell_type": "code",
      "source": [
        "# 파이썬 프로그래밍\n",
        "# 23학번 석사과정 전하란(2023135097)"
      ],
      "metadata": {
        "id": "xuYpFGkQ9B9f"
      },
      "execution_count": null,
      "outputs": []
    },
    {
      "cell_type": "markdown",
      "source": [
        "What is the data type of the result of: 6 / 2?"
      ],
      "metadata": {
        "id": "o2gUNZRAtqlu"
      }
    },
    {
      "cell_type": "code",
      "source": [
        "type(6/2)"
      ],
      "metadata": {
        "colab": {
          "base_uri": "https://localhost:8080/"
        },
        "id": "2-PY1_SltkWY",
        "outputId": "099a0d82-6d6c-4d3d-fb16-d73d4bf3f064"
      },
      "execution_count": null,
      "outputs": [
        {
          "output_type": "execute_result",
          "data": {
            "text/plain": [
              "float"
            ]
          },
          "metadata": {},
          "execution_count": 3
        }
      ]
    },
    {
      "cell_type": "markdown",
      "source": [
        "What is the type of the result of: 6 // 2? (Note the double slash //.)"
      ],
      "metadata": {
        "id": "fVSZVMzHts6_"
      }
    },
    {
      "cell_type": "code",
      "source": [
        "type(6//2)"
      ],
      "metadata": {
        "colab": {
          "base_uri": "https://localhost:8080/"
        },
        "id": "CPfv8izmudIs",
        "outputId": "c95dbcf3-e785-460f-ddd4-fa85d8ae82c4"
      },
      "execution_count": null,
      "outputs": [
        {
          "output_type": "execute_result",
          "data": {
            "text/plain": [
              "int"
            ]
          },
          "metadata": {},
          "execution_count": 4
        }
      ]
    }
  ]
}