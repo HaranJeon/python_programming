{
  "cells": [
    {
      "cell_type": "markdown",
      "metadata": {
        "id": "yxfGHiYiLawP"
      },
      "source": [
        "<h2 id=\"quiz\">Quiz on Loops</h2>"
      ]
    },
    {
      "cell_type": "markdown",
      "metadata": {
        "id": "ZHGYe8j5LawQ"
      },
      "source": [
        "Write a <code>for</code> loop the prints out all the element between <b>-5</b> and <b>5</b> using the range function."
      ]
    },
    {
      "cell_type": "code",
      "execution_count": 1,
      "metadata": {
        "id": "QIXNfubLLawQ",
        "colab": {
          "base_uri": "https://localhost:8080/"
        },
        "outputId": "305d7e40-936c-4008-ba67-e11cd34b9ca4"
      },
      "outputs": [
        {
          "output_type": "stream",
          "name": "stdout",
          "text": [
            "-5\n",
            "-4\n",
            "-3\n",
            "-2\n",
            "-1\n",
            "0\n",
            "1\n",
            "2\n",
            "3\n",
            "4\n",
            "5\n"
          ]
        }
      ],
      "source": [
        "# Write your code below and press Shift+Enter to execute\n",
        "for i in range(-5,6):\n",
        "    print(i)"
      ]
    },
    {
      "cell_type": "markdown",
      "metadata": {
        "id": "2leKrJ-OLawS"
      },
      "source": [
        "Double-click __here__ for the solution.\n",
        "<!--\n",
        "for i in range(-5, 6):\n",
        "    print(i)\n",
        "-->"
      ]
    },
    {
      "cell_type": "markdown",
      "metadata": {
        "id": "lgt-lOBcLawT"
      },
      "source": [
        "Print the elements of the following list:\n",
        "<code>Genres=[ 'rock', 'R&B', 'Soundtrack', 'R&B', 'soul', 'pop']</code>\n",
        "Make sure you follow Python conventions."
      ]
    },
    {
      "cell_type": "code",
      "execution_count": 3,
      "metadata": {
        "id": "y1P9DewULawT",
        "colab": {
          "base_uri": "https://localhost:8080/"
        },
        "outputId": "08029cad-6eab-444b-bf53-dec720b0982b"
      },
      "outputs": [
        {
          "output_type": "stream",
          "name": "stdout",
          "text": [
            "rock\n",
            "R&B\n",
            "Soundtrack\n",
            "R&B\n",
            "soul\n",
            "pop\n"
          ]
        }
      ],
      "source": [
        "# Write your code below and press Shift+Enter to execute\n",
        "Genres=['rock', 'R&B', 'Soundtrack', 'R&B', 'soul', 'pop']\n",
        "for i in Genres:\n",
        "    print(i)"
      ]
    },
    {
      "cell_type": "markdown",
      "metadata": {
        "id": "jI1uHNwkLawV"
      },
      "source": [
        "Double-click __here__ for the solution.\n",
        "<!--\n",
        "Genres = ['rock', 'R&B', 'Soundtrack', 'R&B', 'soul', 'pop']\n",
        "for Genre in Genres:\n",
        "    print(Genre)\n",
        "-->"
      ]
    },
    {
      "cell_type": "markdown",
      "metadata": {
        "id": "R8_dlBvrLawW"
      },
      "source": [
        "<hr>"
      ]
    },
    {
      "cell_type": "markdown",
      "metadata": {
        "id": "VUot42j7LawW"
      },
      "source": [
        "Write a for loop that prints out the following list: <code>squares=['red', 'yellow', 'green', 'purple', 'blue']</code>"
      ]
    },
    {
      "cell_type": "code",
      "execution_count": 4,
      "metadata": {
        "id": "E0MCFnuqLawW",
        "colab": {
          "base_uri": "https://localhost:8080/"
        },
        "outputId": "c074b8b3-d1c7-4648-a889-82e51bfc6845"
      },
      "outputs": [
        {
          "output_type": "stream",
          "name": "stdout",
          "text": [
            "red\n",
            "yellow\n",
            "green\n",
            "purple\n",
            "blue\n"
          ]
        }
      ],
      "source": [
        "# Write your code below and press Shift+Enter to execute\n",
        "squares=['red', 'yellow', 'green', 'purple', 'blue']\n",
        "for i in squares:\n",
        "    print(i)"
      ]
    },
    {
      "cell_type": "markdown",
      "metadata": {
        "id": "hnPtqt7_Lawa"
      },
      "source": [
        "Write a while loop to display the values of the Rating of an album playlist stored in the list <code>PlayListRatings</code>. If the score is less than 6, exit the loop. The list <code>PlayListRatings</code> is given by: <code>PlayListRatings = [10, 9.5, 10, 8, 7.5, 5, 10, 10]</code>"
      ]
    },
    {
      "cell_type": "code",
      "execution_count": 5,
      "metadata": {
        "colab": {
          "base_uri": "https://localhost:8080/"
        },
        "id": "TfaRAl9HTI7q",
        "outputId": "cd9fbc66-4009-494a-e510-bff609208959"
      },
      "outputs": [
        {
          "output_type": "stream",
          "name": "stdout",
          "text": [
            "10\n",
            "9.5\n",
            "10\n",
            "8\n",
            "7.5\n"
          ]
        }
      ],
      "source": [
        "PlayListRatings = [10, 9.5, 10, 8, 7.5, 5, 10, 10]\n",
        "i = 1\n",
        "Rating = PlayListRatings[0]\n",
        "while(Rating >= 6):\n",
        "    print(Rating)\n",
        "    Rating = PlayListRatings[i]\n",
        "    i = i + 1"
      ]
    },
    {
      "cell_type": "code",
      "execution_count": null,
      "metadata": {
        "id": "5Kw0DO-ALawa"
      },
      "outputs": [],
      "source": [
        "# Write your code below and press Shift+Enter to execute\n",
        "# PlayListRatings = [10, 9.5, 10, 8, 7.5, 5, 10, 10]\n",
        "#i = 0\n",
        "#rating = PlayListRatings[i]\n",
        "#while(rating >= 6):\n",
        " #   print(rating)\n",
        "  #  i = i + 1"
      ]
    },
    {
      "cell_type": "markdown",
      "metadata": {
        "id": "asUW74l8Lawe"
      },
      "source": [
        "Write a while loop to copy the strings <code>'orange'</code> of the list <code>squares</code> to the list <code>new_squares</code>. Stop and exit the loop if the value on the list is not <code>'orange'</code>:"
      ]
    },
    {
      "cell_type": "code",
      "execution_count": null,
      "metadata": {
        "id": "qdu1mAbiTI7r",
        "outputId": "443104db-ed2c-440b-d614-0fb69e553873"
      },
      "outputs": [
        {
          "name": "stdout",
          "output_type": "stream",
          "text": [
            "['orange', 'orange']\n"
          ]
        }
      ],
      "source": [
        "squares = ['orange', 'orange', 'purple', 'blue ', 'orange']\n",
        "new_squares = []\n",
        "i = 0\n",
        "while(squares[i] == 'orange'):\n",
        "    new_squares.append(squares[i])\n",
        "    i = i + 1\n",
        "print(new_squares)"
      ]
    },
    {
      "cell_type": "code",
      "execution_count": null,
      "metadata": {
        "id": "oIB8hw4mLawf",
        "outputId": "e647ed24-2a93-4a19-d9c9-2ac83b369ce7"
      },
      "outputs": [
        {
          "name": "stdout",
          "output_type": "stream",
          "text": [
            "['o', 'r', 'a', 'n', 'g', 'e', 'o', 'r', 'a', 'n', 'g', 'e']\n"
          ]
        }
      ],
      "source": [
        "# Write your code below and press Shift+Enter to execute\n",
        "\n",
        "squares = ['orange', 'orange', 'purple', 'blue ', 'orange']\n",
        "new_squares = []\n",
        "i = 0\n",
        "while(squares[i] == 'orange'):\n",
        "    new_squares.extend(squares[i])\n",
        "    i = i + 1\n",
        "print(new_squares)"
      ]
    }
  ],
  "metadata": {
    "colab": {
      "provenance": []
    },
    "kernelspec": {
      "display_name": "Python 3 (ipykernel)",
      "language": "python",
      "name": "python3"
    },
    "language_info": {
      "codemirror_mode": {
        "name": "ipython",
        "version": 3
      },
      "file_extension": ".py",
      "mimetype": "text/x-python",
      "name": "python",
      "nbconvert_exporter": "python",
      "pygments_lexer": "ipython3",
      "version": "3.9.13"
    }
  },
  "nbformat": 4,
  "nbformat_minor": 0
}