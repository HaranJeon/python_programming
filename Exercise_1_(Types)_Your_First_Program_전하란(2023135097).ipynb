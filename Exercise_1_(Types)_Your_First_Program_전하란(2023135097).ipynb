{
  "nbformat": 4,
  "nbformat_minor": 0,
  "metadata": {
    "colab": {
      "provenance": []
    },
    "kernelspec": {
      "name": "python3",
      "display_name": "Python 3"
    },
    "language_info": {
      "name": "python"
    }
  },
  "cells": [
    {
      "cell_type": "markdown",
      "source": [
        "## Exercise 1 (Type) : Your First Program\n",
        "\n",
        "---\n",
        "\n"
      ],
      "metadata": {
        "id": "H2n_qZr9kFQJ"
      }
    },
    {
      "cell_type": "code",
      "source": [
        "# 파이썬 프로그래밍\n",
        "# 23학번 석사과정 전하란(2023135097)"
      ],
      "metadata": {
        "id": "czr9NKOjkZG5"
      },
      "execution_count": null,
      "outputs": []
    },
    {
      "cell_type": "markdown",
      "source": [],
      "metadata": {
        "id": "KoDOsXTQkXV7"
      }
    },
    {
      "cell_type": "markdown",
      "source": [
        "Generations of programmers have started their coding careers by simply printing \"Hello, world!\". You will be following in their footsteps.\n",
        "In the code cell below, use the print() function to print out the phrase: Hello, world!"
      ],
      "metadata": {
        "id": "s_HoblktkSic"
      }
    },
    {
      "cell_type": "code",
      "source": [
        "print('Hello,world!')"
      ],
      "metadata": {
        "colab": {
          "base_uri": "https://localhost:8080/"
        },
        "id": "Ijjw2mlijqkO",
        "outputId": "2c47d136-3ab4-44b0-8b4b-7ac308015784"
      },
      "execution_count": null,
      "outputs": [
        {
          "output_type": "stream",
          "name": "stdout",
          "text": [
            "Hello,world!\n"
          ]
        }
      ]
    },
    {
      "cell_type": "markdown",
      "source": [
        "Now, let's enhance your code with a comment. In the code cell below, print out the phrase: Hello, world! and comment it with the phrase Print the traditional hello world all in one line of code."
      ],
      "metadata": {
        "id": "lezMQLFykT8T"
      }
    },
    {
      "cell_type": "code",
      "source": [
        "print(\"Hello,world!\") #Print the traditional hello world"
      ],
      "metadata": {
        "colab": {
          "base_uri": "https://localhost:8080/"
        },
        "id": "IZMrPZl4juGC",
        "outputId": "7a713a7d-1206-4e9e-d723-e31be34cd29f"
      },
      "execution_count": null,
      "outputs": [
        {
          "output_type": "stream",
          "name": "stdout",
          "text": [
            "Hello,world!\n"
          ]
        }
      ]
    }
  ]
}