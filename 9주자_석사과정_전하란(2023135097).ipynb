{
  "nbformat": 4,
  "nbformat_minor": 0,
  "metadata": {
    "colab": {
      "provenance": [],
      "authorship_tag": "ABX9TyPQtKjto2d3yWFLmZkR4XoP",
      "include_colab_link": true
    },
    "kernelspec": {
      "name": "python3",
      "display_name": "Python 3"
    },
    "language_info": {
      "name": "python"
    }
  },
  "cells": [
    {
      "cell_type": "markdown",
      "metadata": {
        "id": "view-in-github",
        "colab_type": "text"
      },
      "source": [
        "<a href=\"https://colab.research.google.com/github/HaranJeon/python_programming/blob/main/9%EC%A3%BC%EC%9E%90_%EC%84%9D%EC%82%AC%EA%B3%BC%EC%A0%95_%EC%A0%84%ED%95%98%EB%9E%80(2023135097).ipynb\" target=\"_parent\"><img src=\"https://colab.research.google.com/assets/colab-badge.svg\" alt=\"Open In Colab\"/></a>"
      ]
    },
    {
      "cell_type": "markdown",
      "source": [
        "9주차 석사과정 전하란(2023135097)"
      ],
      "metadata": {
        "id": "1wsj6HSHLgmG"
      }
    },
    {
      "cell_type": "markdown",
      "source": [
        "1부터 5까지 정수 리스트 만들기"
      ],
      "metadata": {
        "id": "btAaIs4vLnQP"
      }
    },
    {
      "cell_type": "code",
      "source": [
        "f= [1,2,3,4,5]"
      ],
      "metadata": {
        "id": "R3wUlB_BLksK"
      },
      "execution_count": 1,
      "outputs": []
    },
    {
      "cell_type": "code",
      "source": [
        "number_list = []\n",
        "number_list.append(1)\n",
        "number_list.append(2)\n",
        "number_list.append(3)\n",
        "number_list.append(4)\n",
        "number_list.append(5)"
      ],
      "metadata": {
        "id": "G6dtmJaILrV8"
      },
      "execution_count": 2,
      "outputs": []
    },
    {
      "cell_type": "code",
      "source": [
        "number_list = []\n",
        "for number in range(1, 6):\n",
        "    number_list.append(number)\n",
        "\n",
        "number_list"
      ],
      "metadata": {
        "colab": {
          "base_uri": "https://localhost:8080/"
        },
        "id": "BtnvEh6sLs4A",
        "outputId": "e9353a69-647f-4c6f-d775-7cb5a5393fc3"
      },
      "execution_count": 3,
      "outputs": [
        {
          "output_type": "execute_result",
          "data": {
            "text/plain": [
              "[1, 2, 3, 4, 5]"
            ]
          },
          "metadata": {},
          "execution_count": 3
        }
      ]
    },
    {
      "cell_type": "code",
      "source": [
        "number_list = list(range(1, 6))\n",
        "\n",
        "number_list"
      ],
      "metadata": {
        "colab": {
          "base_uri": "https://localhost:8080/"
        },
        "id": "jsxfJscxLvLO",
        "outputId": "e151fde2-356e-4232-db22-550a3471ad1a"
      },
      "execution_count": 4,
      "outputs": [
        {
          "output_type": "execute_result",
          "data": {
            "text/plain": [
              "[1, 2, 3, 4, 5]"
            ]
          },
          "metadata": {},
          "execution_count": 4
        }
      ]
    },
    {
      "cell_type": "code",
      "source": [
        "number_list = [number for number in range(1,6)]\n",
        "\n",
        "number_list"
      ],
      "metadata": {
        "colab": {
          "base_uri": "https://localhost:8080/"
        },
        "id": "SWOGwN41Lw86",
        "outputId": "26a51c4b-d5ed-4456-9508-36ac6bc47e4e"
      },
      "execution_count": 5,
      "outputs": [
        {
          "output_type": "execute_result",
          "data": {
            "text/plain": [
              "[1, 2, 3, 4, 5]"
            ]
          },
          "metadata": {},
          "execution_count": 5
        }
      ]
    },
    {
      "cell_type": "code",
      "source": [
        "number_list = [number-1 for number in range(1,6)]\n",
        "number_list"
      ],
      "metadata": {
        "colab": {
          "base_uri": "https://localhost:8080/"
        },
        "id": "xmGYkW9TLysS",
        "outputId": "c9733cac-699c-4bd1-d72c-5747ec92e6c6"
      },
      "execution_count": 6,
      "outputs": [
        {
          "output_type": "execute_result",
          "data": {
            "text/plain": [
              "[0, 1, 2, 3, 4]"
            ]
          },
          "metadata": {},
          "execution_count": 6
        }
      ]
    },
    {
      "cell_type": "code",
      "source": [
        "a_list = [number for number in range(1,6) if number % 2 == 1]\n",
        "\n",
        "a_list.append(number)\n",
        "number_list"
      ],
      "metadata": {
        "colab": {
          "base_uri": "https://localhost:8080/"
        },
        "id": "BhSGCVQ-Lz8N",
        "outputId": "6b1a7acd-d2de-49c8-842b-6ee223dd895c"
      },
      "execution_count": 7,
      "outputs": [
        {
          "output_type": "execute_result",
          "data": {
            "text/plain": [
              "[0, 1, 2, 3, 4]"
            ]
          },
          "metadata": {},
          "execution_count": 7
        }
      ]
    },
    {
      "cell_type": "markdown",
      "source": [
        "List Comprehension 예제"
      ],
      "metadata": {
        "id": "SjAJuf3JL2oS"
      }
    },
    {
      "cell_type": "code",
      "source": [
        "sentence = ['I', 'love', 'Python', 'Sooooo', 'MUCH!!!']\n",
        "\n",
        "#함수 적용\n",
        "[word.lower() for word in sentence]\n",
        "\n",
        "#조건 적용\n",
        "[word for word in sentence if len(word) > 6]\n",
        "\n",
        "#함수 적용하여 튜플로 저장\n",
        "[(x, x ** 2, x **3) for x in range(10)]"
      ],
      "metadata": {
        "colab": {
          "base_uri": "https://localhost:8080/"
        },
        "id": "lhYU1EydL5g5",
        "outputId": "64530e92-9dee-4bf4-d9a1-43d48f4dbc4f"
      },
      "execution_count": 8,
      "outputs": [
        {
          "output_type": "execute_result",
          "data": {
            "text/plain": [
              "[(0, 0, 0),\n",
              " (1, 1, 1),\n",
              " (2, 4, 8),\n",
              " (3, 9, 27),\n",
              " (4, 16, 64),\n",
              " (5, 25, 125),\n",
              " (6, 36, 216),\n",
              " (7, 49, 343),\n",
              " (8, 64, 512),\n",
              " (9, 81, 729)]"
            ]
          },
          "metadata": {},
          "execution_count": 8
        }
      ]
    },
    {
      "cell_type": "markdown",
      "source": [
        "List Comprehension – 두 개의 for"
      ],
      "metadata": {
        "id": "7wSp3dkJL97I"
      }
    },
    {
      "cell_type": "code",
      "source": [
        "rows = range(1,4)\n",
        "cols = range(1,3)\n",
        "for row in rows:\n",
        "    for col in cols:\n",
        "        print(row, col)"
      ],
      "metadata": {
        "colab": {
          "base_uri": "https://localhost:8080/"
        },
        "id": "sCFkJIHWL7Po",
        "outputId": "51830bae-7fca-4bb0-c285-387862d29230"
      },
      "execution_count": 10,
      "outputs": [
        {
          "output_type": "stream",
          "name": "stdout",
          "text": [
            "1 1\n",
            "1 2\n",
            "2 1\n",
            "2 2\n",
            "3 1\n",
            "3 2\n"
          ]
        }
      ]
    },
    {
      "cell_type": "code",
      "source": [
        "rows = range(1,4)\n",
        "cols = range(1,3)\n",
        "cells = [(row, col) for row in rows for col in cols]\n",
        "for cell in cells:\n",
        "    print(cell)"
      ],
      "metadata": {
        "colab": {
          "base_uri": "https://localhost:8080/"
        },
        "id": "qLzP3dgJMIE0",
        "outputId": "de9b2f8e-2b39-4088-c1b9-685f579c2c8e"
      },
      "execution_count": 11,
      "outputs": [
        {
          "output_type": "stream",
          "name": "stdout",
          "text": [
            "(1, 1)\n",
            "(1, 2)\n",
            "(2, 1)\n",
            "(2, 2)\n",
            "(3, 1)\n",
            "(3, 2)\n"
          ]
        }
      ]
    },
    {
      "cell_type": "code",
      "source": [
        "[(i,j) for i in range(5) for j in range(i)]"
      ],
      "metadata": {
        "colab": {
          "base_uri": "https://localhost:8080/"
        },
        "id": "TH5dt7RaMYhz",
        "outputId": "0fbc38d8-9383-4d01-fb8c-1bf2b5b96651"
      },
      "execution_count": 12,
      "outputs": [
        {
          "output_type": "execute_result",
          "data": {
            "text/plain": [
              "[(1, 0),\n",
              " (2, 0),\n",
              " (2, 1),\n",
              " (3, 0),\n",
              " (3, 1),\n",
              " (3, 2),\n",
              " (4, 0),\n",
              " (4, 1),\n",
              " (4, 2),\n",
              " (4, 3)]"
            ]
          },
          "metadata": {},
          "execution_count": 12
        }
      ]
    },
    {
      "cell_type": "markdown",
      "source": [
        "Dictionary Comprehension"
      ],
      "metadata": {
        "id": "GRUpi6hdM9Ea"
      }
    },
    {
      "cell_type": "code",
      "source": [
        "word = 'letters'\n",
        "letter_counts = {letter: word.count(letter) for letter in word}\n",
        "\n",
        "letter_counts"
      ],
      "metadata": {
        "colab": {
          "base_uri": "https://localhost:8080/"
        },
        "id": "ugiMOclgMcco",
        "outputId": "a4b30c35-6127-429c-91ea-cd4c4577c933"
      },
      "execution_count": 13,
      "outputs": [
        {
          "output_type": "execute_result",
          "data": {
            "text/plain": [
              "{'l': 1, 'e': 2, 't': 2, 'r': 1, 's': 1}"
            ]
          },
          "metadata": {},
          "execution_count": 13
        }
      ]
    },
    {
      "cell_type": "code",
      "source": [
        "word = 'letters'\n",
        "letter_counts = {letter: word.count(letter) for letter in set(word)}\n",
        "\n",
        "letter_counts"
      ],
      "metadata": {
        "colab": {
          "base_uri": "https://localhost:8080/"
        },
        "id": "D4Nllj9QMizF",
        "outputId": "da3b1f48-db1b-4c19-d4a3-10d57ab55169"
      },
      "execution_count": 14,
      "outputs": [
        {
          "output_type": "execute_result",
          "data": {
            "text/plain": [
              "{'l': 1, 'r': 1, 's': 1, 't': 2, 'e': 2}"
            ]
          },
          "metadata": {},
          "execution_count": 14
        }
      ]
    },
    {
      "cell_type": "markdown",
      "source": [
        "Set Comprehension"
      ],
      "metadata": {
        "id": "h_4Ao6EQNBUA"
      }
    },
    {
      "cell_type": "code",
      "source": [
        "a_set = {number for number in range(1,6) if number % 3 == 1}\n",
        "a_set"
      ],
      "metadata": {
        "colab": {
          "base_uri": "https://localhost:8080/"
        },
        "id": "6VLNuK3yNATK",
        "outputId": "b175696e-4a6e-4367-963b-c67752b7c2d3"
      },
      "execution_count": 15,
      "outputs": [
        {
          "output_type": "execute_result",
          "data": {
            "text/plain": [
              "{1, 4}"
            ]
          },
          "metadata": {},
          "execution_count": 15
        }
      ]
    },
    {
      "cell_type": "markdown",
      "source": [
        "Comprehension"
      ],
      "metadata": {
        "id": "q2Rij_ONNYzd"
      }
    },
    {
      "cell_type": "code",
      "source": [
        "{v:k for k,v in d.items()}\n",
        "{word for word in hamlet if is_palindrome(word.lower())}"
      ],
      "metadata": {
        "colab": {
          "base_uri": "https://localhost:8080/",
          "height": 191
        },
        "id": "SB-eGcIZNIEd",
        "outputId": "6463e482-6f7c-4627-9a7b-3b5c9d36ce55"
      },
      "execution_count": 19,
      "outputs": [
        {
          "output_type": "error",
          "ename": "NameError",
          "evalue": "ignored",
          "traceback": [
            "\u001b[0;31m---------------------------------------------------------------------------\u001b[0m",
            "\u001b[0;31mNameError\u001b[0m                                 Traceback (most recent call last)",
            "\u001b[0;32m<ipython-input-19-3534a4c50fc8>\u001b[0m in \u001b[0;36m<cell line: 1>\u001b[0;34m()\u001b[0m\n\u001b[0;32m----> 1\u001b[0;31m \u001b[0;34m{\u001b[0m\u001b[0mv\u001b[0m\u001b[0;34m:\u001b[0m\u001b[0mk\u001b[0m \u001b[0;32mfor\u001b[0m \u001b[0mk\u001b[0m\u001b[0;34m,\u001b[0m\u001b[0mv\u001b[0m \u001b[0;32min\u001b[0m \u001b[0md\u001b[0m\u001b[0;34m.\u001b[0m\u001b[0mitems\u001b[0m\u001b[0;34m(\u001b[0m\u001b[0;34m)\u001b[0m\u001b[0;34m}\u001b[0m\u001b[0;34m\u001b[0m\u001b[0;34m\u001b[0m\u001b[0m\n\u001b[0m\u001b[1;32m      2\u001b[0m \u001b[0;34m{\u001b[0m\u001b[0mword\u001b[0m \u001b[0;32mfor\u001b[0m \u001b[0mword\u001b[0m \u001b[0;32min\u001b[0m \u001b[0mhamlet\u001b[0m \u001b[0;32mif\u001b[0m \u001b[0mis_palindrome\u001b[0m\u001b[0;34m(\u001b[0m\u001b[0mword\u001b[0m\u001b[0;34m.\u001b[0m\u001b[0mlower\u001b[0m\u001b[0;34m(\u001b[0m\u001b[0;34m)\u001b[0m\u001b[0;34m)\u001b[0m\u001b[0;34m}\u001b[0m\u001b[0;34m\u001b[0m\u001b[0;34m\u001b[0m\u001b[0m\n",
            "\u001b[0;31mNameError\u001b[0m: name 'd' is not defined"
          ]
        }
      ]
    },
    {
      "cell_type": "markdown",
      "source": [
        "return 값을 갖는 함수"
      ],
      "metadata": {
        "id": "XIkbcqLbNo_V"
      }
    },
    {
      "cell_type": "code",
      "source": [
        "def function_name(param1, param2):\n",
        "  value = do_something()\n",
        "  return value"
      ],
      "metadata": {
        "id": "wQYjIoRwNbuJ"
      },
      "execution_count": 20,
      "outputs": []
    },
    {
      "cell_type": "markdown",
      "source": [
        "덧셈함수"
      ],
      "metadata": {
        "id": "m7svKEtLNzpW"
      }
    },
    {
      "cell_type": "code",
      "source": [
        "def sum(a,b):\n",
        "    return a+b\n",
        "\n",
        "sum(1,2)\n"
      ],
      "metadata": {
        "colab": {
          "base_uri": "https://localhost:8080/"
        },
        "id": "MNNWWwbpNyC0",
        "outputId": "5f837093-b0dd-4029-9a3c-8369fd3414a5"
      },
      "execution_count": 24,
      "outputs": [
        {
          "output_type": "execute_result",
          "data": {
            "text/plain": [
              "3"
            ]
          },
          "metadata": {},
          "execution_count": 24
        }
      ]
    },
    {
      "cell_type": "code",
      "source": [
        "sum (1.3, 3.1)"
      ],
      "metadata": {
        "colab": {
          "base_uri": "https://localhost:8080/"
        },
        "id": "QWGAQ4sQN8VO",
        "outputId": "0b0cff97-c472-40dc-b53a-328fa47b0e7d"
      },
      "execution_count": 25,
      "outputs": [
        {
          "output_type": "execute_result",
          "data": {
            "text/plain": [
              "4.4"
            ]
          },
          "metadata": {},
          "execution_count": 25
        }
      ]
    },
    {
      "cell_type": "code",
      "source": [
        "sum('love ', 'python')"
      ],
      "metadata": {
        "colab": {
          "base_uri": "https://localhost:8080/",
          "height": 35
        },
        "id": "bTKphStIOM5g",
        "outputId": "5b48016f-af1e-41a7-8bf2-01a012d5675f"
      },
      "execution_count": 26,
      "outputs": [
        {
          "output_type": "execute_result",
          "data": {
            "text/plain": [
              "'love python'"
            ],
            "application/vnd.google.colaboratory.intrinsic+json": {
              "type": "string"
            }
          },
          "metadata": {},
          "execution_count": 26
        }
      ]
    },
    {
      "cell_type": "markdown",
      "source": [
        "iteration - zip()"
      ],
      "metadata": {
        "id": "XLzZ4xeqOUBX"
      }
    },
    {
      "cell_type": "code",
      "source": [
        "days = ['Monday', 'Tuesday', 'Wednesday']\n",
        "fruits = ['banana', 'orange', 'peach']\n",
        "drinks = ['coffee', 'tea', 'beer']\n",
        "desserts = ['tiramisu', 'ice cream', 'pie', 'pudding']\n",
        "for day, fruit, drink, dessert in zip(days, fruits, drinks, desserts):\n",
        "    print(day, \": drink\", drink, \"- eat\", fruit, \"- enjoy\", dessert)"
      ],
      "metadata": {
        "colab": {
          "base_uri": "https://localhost:8080/"
        },
        "id": "0Bcx-mUsOQRy",
        "outputId": "64c24f0c-e449-48c4-94d7-2494019b65fd"
      },
      "execution_count": 27,
      "outputs": [
        {
          "output_type": "stream",
          "name": "stdout",
          "text": [
            "Monday : drink coffee - eat banana - enjoy tiramisu\n",
            "Tuesday : drink tea - eat orange - enjoy ice cream\n",
            "Wednesday : drink beer - eat peach - enjoy pie\n"
          ]
        }
      ]
    },
    {
      "cell_type": "markdown",
      "source": [
        "zip을 이용하여 영어-프랑스 사전 만들기"
      ],
      "metadata": {
        "id": "qth4ArzvOZkH"
      }
    },
    {
      "cell_type": "code",
      "source": [
        "english = 'Monday', 'Tuesday', 'Wednesday'\n",
        "french = 'Lundi', 'Mardi', 'Mercredi'\n",
        "\n",
        "list( zip(english, french) )\n",
        "# [('Monday', 'Lundi'), ('Tuesday', 'Mardi'), ('Wednesday', 'Mercredi')]\n",
        "\n",
        "dict( zip(english, french) )\n",
        "# {'Monday': 'Lundi', 'Tuesday': 'Mardi', 'Wednesday': 'Mercredi'}"
      ],
      "metadata": {
        "colab": {
          "base_uri": "https://localhost:8080/"
        },
        "id": "1hbROlMcOWNM",
        "outputId": "2aff07f4-c2d9-4e74-f945-0f5fc9bcc43d"
      },
      "execution_count": 29,
      "outputs": [
        {
          "output_type": "execute_result",
          "data": {
            "text/plain": [
              "{'Monday': 'Lundi', 'Tuesday': 'Mardi', 'Wednesday': 'Mercredi'}"
            ]
          },
          "metadata": {},
          "execution_count": 29
        }
      ]
    },
    {
      "cell_type": "markdown",
      "source": [
        "함수 위치 인자"
      ],
      "metadata": {
        "id": "nnlXYHfUOny1"
      }
    },
    {
      "cell_type": "code",
      "source": [
        "# wine, entree, dessert를 받아서 딕셔너리로 만들어 반환하는 함수\n",
        "def menu(wine, entree, dessert):\n",
        "    return {'wine': wine, 'entree': entree, 'dessert': dessert}"
      ],
      "metadata": {
        "id": "NOCEgugzOc7-"
      },
      "execution_count": 30,
      "outputs": []
    },
    {
      "cell_type": "code",
      "source": [
        "menu('bordeaux','beef','bagel')"
      ],
      "metadata": {
        "colab": {
          "base_uri": "https://localhost:8080/"
        },
        "id": "rWhlgPK3PAbG",
        "outputId": "11758942-f761-4f1e-981f-fe2737c212e4"
      },
      "execution_count": 33,
      "outputs": [
        {
          "output_type": "execute_result",
          "data": {
            "text/plain": [
              "{'wine': 'bordeaux', 'entree': 'beef', 'dessert': 'bagel'}"
            ]
          },
          "metadata": {},
          "execution_count": 33
        }
      ]
    },
    {
      "cell_type": "markdown",
      "source": [
        "함수 키워드 인자"
      ],
      "metadata": {
        "id": "IUtk6yWhOxMi"
      }
    },
    {
      "cell_type": "code",
      "source": [
        "def menu(wine, entree, dessert):\n",
        "    return {'wine': wine, 'entree': entree, 'dessert': dessert}"
      ],
      "metadata": {
        "id": "4QTpmE_TOuIT"
      },
      "execution_count": 31,
      "outputs": []
    },
    {
      "cell_type": "code",
      "source": [
        "menu(entree='beef', dessert='bagel', wine='bordeaux')"
      ],
      "metadata": {
        "colab": {
          "base_uri": "https://localhost:8080/"
        },
        "id": "px1laMTSPEL8",
        "outputId": "293946f2-7996-472a-87f5-637e7a6bdbef"
      },
      "execution_count": 34,
      "outputs": [
        {
          "output_type": "execute_result",
          "data": {
            "text/plain": [
              "{'wine': 'bordeaux', 'entree': 'beef', 'dessert': 'bagel'}"
            ]
          },
          "metadata": {},
          "execution_count": 34
        }
      ]
    },
    {
      "cell_type": "markdown",
      "source": [
        "기본 매개변수 값 정하기"
      ],
      "metadata": {
        "id": "GdRO7NXTO4BQ"
      }
    },
    {
      "cell_type": "code",
      "source": [
        "def menu(wine, entree, dessert='pudding'):\n",
        "    return {'wine': wine, 'entree': entree, 'dessert': dessert}\n",
        "\n",
        "#함수호출\n",
        "menu('chardonnay', 'chicken')"
      ],
      "metadata": {
        "colab": {
          "base_uri": "https://localhost:8080/"
        },
        "id": "RmyxJlwIO1Xq",
        "outputId": "0a931d08-a1ca-4be1-ef58-9c3a0c3b08ec"
      },
      "execution_count": 32,
      "outputs": [
        {
          "output_type": "execute_result",
          "data": {
            "text/plain": [
              "{'wine': 'chardonnay', 'entree': 'chicken', 'dessert': 'pudding'}"
            ]
          },
          "metadata": {},
          "execution_count": 32
        }
      ]
    },
    {
      "cell_type": "code",
      "source": [
        "#dessert 의 값을 입력한 경우\n",
        "menu('dunkelfelder', 'duck', 'doughnut')"
      ],
      "metadata": {
        "colab": {
          "base_uri": "https://localhost:8080/"
        },
        "id": "Hjkr3FBnO7iH",
        "outputId": "f0f2c71e-4889-4a8f-d800-4c48d3ea4b63"
      },
      "execution_count": 37,
      "outputs": [
        {
          "output_type": "stream",
          "name": "stdout",
          "text": [
            "{'price': 'dunkelfelder', 'wine': 'duck', 'entree': 'doughnut', 'dessert': 'pudding'}\n"
          ]
        }
      ]
    },
    {
      "cell_type": "markdown",
      "source": [
        "가능한 경우"
      ],
      "metadata": {
        "id": "EC80bqz7Pwrp"
      }
    },
    {
      "cell_type": "code",
      "source": [
        "def menu(price, wine='chardonnay', entree='chicken', dessert='pudding'):\n",
        "    return print({'price': price, 'wine': wine, 'entree': entree, 'dessert': dessert})"
      ],
      "metadata": {
        "id": "9RNIkhLXPNME"
      },
      "execution_count": 38,
      "outputs": []
    },
    {
      "cell_type": "code",
      "source": [
        "print('1 위치 인자 ')\n",
        "menu(100)\n",
        "print('1 키워드 인자')\n",
        "menu(price=100)\n",
        "print('2 키워드 인자')\n",
        "menu(price=120, entree='beef')\n",
        "print('2 키워드 인자')\n",
        "menu(dessert='bagel', price=110)\n",
        "print('3 위치 인자')\n",
        "menu('eighty', 'saint-pierre','fish')\n",
        "print('1 위치 인자, 1 키워드 인자')\n",
        "menu('hundred', wine='saint-pierre')"
      ],
      "metadata": {
        "colab": {
          "base_uri": "https://localhost:8080/"
        },
        "id": "j8SbofuvPP6N",
        "outputId": "cda91b2b-9c4f-4e82-def9-290706fc8a0c"
      },
      "execution_count": 39,
      "outputs": [
        {
          "output_type": "stream",
          "name": "stdout",
          "text": [
            "1 위치 인자 \n",
            "{'price': 100, 'wine': 'chardonnay', 'entree': 'chicken', 'dessert': 'pudding'}\n",
            "1 키워드 인자\n",
            "{'price': 100, 'wine': 'chardonnay', 'entree': 'chicken', 'dessert': 'pudding'}\n",
            "2 키워드 인자\n",
            "{'price': 120, 'wine': 'chardonnay', 'entree': 'beef', 'dessert': 'pudding'}\n",
            "2 키워드 인자\n",
            "{'price': 110, 'wine': 'chardonnay', 'entree': 'chicken', 'dessert': 'bagel'}\n",
            "3 위치 인자\n",
            "{'price': 'eighty', 'wine': 'saint-pierre', 'entree': 'fish', 'dessert': 'pudding'}\n",
            "1 위치 인자, 1 키워드 인자\n",
            "{'price': 'hundred', 'wine': 'saint-pierre', 'entree': 'chicken', 'dessert': 'pudding'}\n"
          ]
        }
      ]
    },
    {
      "cell_type": "markdown",
      "source": [
        "불가능한 경우"
      ],
      "metadata": {
        "id": "yeBlAUxhPuvq"
      }
    },
    {
      "cell_type": "code",
      "source": [
        "def menu(price, wine='chardonnay', entree='chicken', dessert='pudding'):\n",
        "    return ({'price': price, 'wine': wine, 'entree': entree, 'dessert': dessert})"
      ],
      "metadata": {
        "id": "mWf4NVSPPqg1"
      },
      "execution_count": 40,
      "outputs": []
    },
    {
      "cell_type": "markdown",
      "source": [
        "docstring"
      ],
      "metadata": {
        "id": "3l8wF7aXP7LV"
      }
    },
    {
      "cell_type": "code",
      "source": [
        "def echo(anything):\n",
        "    'echo returns its input argument'\n",
        "    return anything\n",
        "\n",
        "def print_if_true(thing, check):\n",
        "    \"\"\"\n",
        "        Prints the first argument if a second argument is true.\n",
        "        The operation is:\n",
        "        1. Check whether the *second* argument is true.\n",
        "        2. If it is, print the *first* argument.\n",
        "    \"\"\"\n",
        "    if check:\n",
        "        print(thing)"
      ],
      "metadata": {
        "id": "IcAHRcA1P5WY"
      },
      "execution_count": 41,
      "outputs": []
    },
    {
      "cell_type": "code",
      "source": [
        "help(echo)"
      ],
      "metadata": {
        "colab": {
          "base_uri": "https://localhost:8080/"
        },
        "id": "SzdtQNRTQE-d",
        "outputId": "70901fa4-bf7e-48ee-b9f3-91fc4189189c"
      },
      "execution_count": 43,
      "outputs": [
        {
          "output_type": "stream",
          "name": "stdout",
          "text": [
            "Help on function echo in module __main__:\n",
            "\n",
            "echo(anything)\n",
            "    echo returns its input argument\n",
            "\n"
          ]
        }
      ]
    },
    {
      "cell_type": "code",
      "source": [
        "print(echo.__doc__)"
      ],
      "metadata": {
        "colab": {
          "base_uri": "https://localhost:8080/"
        },
        "id": "SwMteZSLQGKq",
        "outputId": "5316be3a-7522-4854-b518-ae4ef1cb6db9"
      },
      "execution_count": 45,
      "outputs": [
        {
          "output_type": "stream",
          "name": "stdout",
          "text": [
            "echo returns its input argument\n"
          ]
        }
      ]
    },
    {
      "cell_type": "code",
      "source": [],
      "metadata": {
        "id": "U7I7ShZ_QSuQ"
      },
      "execution_count": null,
      "outputs": []
    }
  ]
}